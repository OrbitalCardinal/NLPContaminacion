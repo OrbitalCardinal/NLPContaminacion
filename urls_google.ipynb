{
 "cells": [
  {
   "cell_type": "code",
   "execution_count": 54,
   "id": "d02bf37f-c7eb-4880-9940-12ac24aa05f3",
   "metadata": {},
   "outputs": [],
   "source": [
    "import pandas as pd\n",
    "import requests\n",
    "from bs4 import BeautifulSoup\n",
    "from selenium import webdriver\n",
    "from tqdm import tqdm\n",
    "import time"
   ]
  },
  {
   "cell_type": "code",
   "execution_count": 19,
   "id": "e1334385-a0d0-4415-bee4-8c1f3dd59979",
   "metadata": {},
   "outputs": [],
   "source": [
    "options = webdriver.FirefoxOptions()\n",
    "options.add_argument('--headless')\n",
    "driver = webdriver.Firefox(options=options)"
   ]
  },
  {
   "cell_type": "code",
   "execution_count": 20,
   "id": "a23bc6d9-a591-48d0-b273-d63d8a754bf0",
   "metadata": {},
   "outputs": [],
   "source": [
    "URL_BASE = 'https://www.google.com/search?q='\n",
    "CODIGOS_DESCRIPCION_PATH = 'cod_desc_data.csv'"
   ]
  },
  {
   "cell_type": "code",
   "execution_count": 21,
   "id": "fcfb5cf4-a811-4474-a3b8-b27e4164782d",
   "metadata": {},
   "outputs": [],
   "source": [
    "cod_desc_data = pd.read_csv(CODIGOS_DESCRIPCION_PATH)"
   ]
  },
  {
   "cell_type": "code",
   "execution_count": 39,
   "id": "3aef5aaa-2329-46ab-9454-1f062a80c97b",
   "metadata": {},
   "outputs": [],
   "source": [
    "n_lotes = 20\n",
    "lote_size = int(len(cod_desc_data) / n_lotes)"
   ]
  },
  {
   "cell_type": "code",
   "execution_count": 53,
   "id": "8fc0242d-a0e9-4e00-ae8d-2457a3e74d4a",
   "metadata": {},
   "outputs": [],
   "source": [
    "# OBTENER LOTES (BATCHES)\n",
    "lotes = []\n",
    "for i in range(n_lotes):\n",
    "    if i < n_lotes - 1:\n",
    "        lote = cod_desc_data.loc[i*lote_size: (i+1) * lote_size]\n",
    "    else:\n",
    "        lote = cod_desc_data.loc[i*lote_size:]\n",
    "    lotes.append(lote)"
   ]
  },
  {
   "cell_type": "code",
   "execution_count": 55,
   "id": "16963a29-0017-4f45-bb8b-a312b5c8bb1d",
   "metadata": {},
   "outputs": [
    {
     "name": "stderr",
     "output_type": "stream",
     "text": [
      "100%|████████████████████████████████████████████████████████████████████████████████| 613/613 [07:29<00:00,  1.36it/s]\n",
      " 24%|███████████████████▎                                                            | 148/613 [06:40<20:57,  2.70s/it]\n"
     ]
    },
    {
     "ename": "TimeoutException",
     "evalue": "Message: TimedPromise timed out after 300000 ms\nStacktrace:\nWebDriverError@chrome://remote/content/shared/webdriver/Errors.jsm:183:5\nTimeoutError@chrome://remote/content/shared/webdriver/Errors.jsm:472:5\nbail@chrome://remote/content/marionette/sync.js:231:19\n",
     "output_type": "error",
     "traceback": [
      "\u001b[1;31m---------------------------------------------------------------------------\u001b[0m",
      "\u001b[1;31mTimeoutException\u001b[0m                          Traceback (most recent call last)",
      "Input \u001b[1;32mIn [55]\u001b[0m, in \u001b[0;36m<module>\u001b[1;34m\u001b[0m\n\u001b[0;32m      3\u001b[0m \u001b[38;5;28;01mfor\u001b[39;00m lote \u001b[38;5;129;01min\u001b[39;00m lotes:\n\u001b[0;32m      4\u001b[0m     \u001b[38;5;28;01mfor\u001b[39;00m descripcion \u001b[38;5;129;01min\u001b[39;00m tqdm(lote\u001b[38;5;241m.\u001b[39mdescripcion):\n\u001b[1;32m----> 5\u001b[0m         \u001b[43mdriver\u001b[49m\u001b[38;5;241;43m.\u001b[39;49m\u001b[43mget\u001b[49m\u001b[43m(\u001b[49m\u001b[43mURL_BASE\u001b[49m\u001b[43m \u001b[49m\u001b[38;5;241;43m+\u001b[39;49m\u001b[43m \u001b[49m\u001b[43mdescripcion\u001b[49m\u001b[43m \u001b[49m\u001b[38;5;241;43m+\u001b[39;49m\u001b[43m \u001b[49m\u001b[38;5;124;43m'\u001b[39;49m\u001b[38;5;124;43m symptoms\u001b[39;49m\u001b[38;5;124;43m'\u001b[39;49m\u001b[43m)\u001b[49m\n\u001b[0;32m      6\u001b[0m         html \u001b[38;5;241m=\u001b[39m driver\u001b[38;5;241m.\u001b[39mpage_source\n\u001b[0;32m      7\u001b[0m         soup \u001b[38;5;241m=\u001b[39m BeautifulSoup(html, \u001b[38;5;124m'\u001b[39m\u001b[38;5;124mlxml\u001b[39m\u001b[38;5;124m'\u001b[39m)\n",
      "File \u001b[1;32mG:\\Edson Cepeda\\Documents\\CODEPX\\repos\\NLPContaminacion\\env\\lib\\site-packages\\selenium\\webdriver\\remote\\webdriver.py:436\u001b[0m, in \u001b[0;36mWebDriver.get\u001b[1;34m(self, url)\u001b[0m\n\u001b[0;32m    432\u001b[0m \u001b[38;5;28;01mdef\u001b[39;00m \u001b[38;5;21mget\u001b[39m(\u001b[38;5;28mself\u001b[39m, url: \u001b[38;5;28mstr\u001b[39m) \u001b[38;5;241m-\u001b[39m\u001b[38;5;241m>\u001b[39m \u001b[38;5;28;01mNone\u001b[39;00m:\n\u001b[0;32m    433\u001b[0m     \u001b[38;5;124;03m\"\"\"\u001b[39;00m\n\u001b[0;32m    434\u001b[0m \u001b[38;5;124;03m    Loads a web page in the current browser session.\u001b[39;00m\n\u001b[0;32m    435\u001b[0m \u001b[38;5;124;03m    \"\"\"\u001b[39;00m\n\u001b[1;32m--> 436\u001b[0m     \u001b[38;5;28;43mself\u001b[39;49m\u001b[38;5;241;43m.\u001b[39;49m\u001b[43mexecute\u001b[49m\u001b[43m(\u001b[49m\u001b[43mCommand\u001b[49m\u001b[38;5;241;43m.\u001b[39;49m\u001b[43mGET\u001b[49m\u001b[43m,\u001b[49m\u001b[43m \u001b[49m\u001b[43m{\u001b[49m\u001b[38;5;124;43m'\u001b[39;49m\u001b[38;5;124;43murl\u001b[39;49m\u001b[38;5;124;43m'\u001b[39;49m\u001b[43m:\u001b[49m\u001b[43m \u001b[49m\u001b[43murl\u001b[49m\u001b[43m}\u001b[49m\u001b[43m)\u001b[49m\n",
      "File \u001b[1;32mG:\\Edson Cepeda\\Documents\\CODEPX\\repos\\NLPContaminacion\\env\\lib\\site-packages\\selenium\\webdriver\\remote\\webdriver.py:424\u001b[0m, in \u001b[0;36mWebDriver.execute\u001b[1;34m(self, driver_command, params)\u001b[0m\n\u001b[0;32m    422\u001b[0m response \u001b[38;5;241m=\u001b[39m \u001b[38;5;28mself\u001b[39m\u001b[38;5;241m.\u001b[39mcommand_executor\u001b[38;5;241m.\u001b[39mexecute(driver_command, params)\n\u001b[0;32m    423\u001b[0m \u001b[38;5;28;01mif\u001b[39;00m response:\n\u001b[1;32m--> 424\u001b[0m     \u001b[38;5;28;43mself\u001b[39;49m\u001b[38;5;241;43m.\u001b[39;49m\u001b[43merror_handler\u001b[49m\u001b[38;5;241;43m.\u001b[39;49m\u001b[43mcheck_response\u001b[49m\u001b[43m(\u001b[49m\u001b[43mresponse\u001b[49m\u001b[43m)\u001b[49m\n\u001b[0;32m    425\u001b[0m     response[\u001b[38;5;124m'\u001b[39m\u001b[38;5;124mvalue\u001b[39m\u001b[38;5;124m'\u001b[39m] \u001b[38;5;241m=\u001b[39m \u001b[38;5;28mself\u001b[39m\u001b[38;5;241m.\u001b[39m_unwrap_value(\n\u001b[0;32m    426\u001b[0m         response\u001b[38;5;241m.\u001b[39mget(\u001b[38;5;124m'\u001b[39m\u001b[38;5;124mvalue\u001b[39m\u001b[38;5;124m'\u001b[39m, \u001b[38;5;28;01mNone\u001b[39;00m))\n\u001b[0;32m    427\u001b[0m     \u001b[38;5;28;01mreturn\u001b[39;00m response\n",
      "File \u001b[1;32mG:\\Edson Cepeda\\Documents\\CODEPX\\repos\\NLPContaminacion\\env\\lib\\site-packages\\selenium\\webdriver\\remote\\errorhandler.py:247\u001b[0m, in \u001b[0;36mErrorHandler.check_response\u001b[1;34m(self, response)\u001b[0m\n\u001b[0;32m    245\u001b[0m         alert_text \u001b[38;5;241m=\u001b[39m value[\u001b[38;5;124m'\u001b[39m\u001b[38;5;124malert\u001b[39m\u001b[38;5;124m'\u001b[39m]\u001b[38;5;241m.\u001b[39mget(\u001b[38;5;124m'\u001b[39m\u001b[38;5;124mtext\u001b[39m\u001b[38;5;124m'\u001b[39m)\n\u001b[0;32m    246\u001b[0m     \u001b[38;5;28;01mraise\u001b[39;00m exception_class(message, screen, stacktrace, alert_text)  \u001b[38;5;66;03m# type: ignore[call-arg]  # mypy is not smart enough here\u001b[39;00m\n\u001b[1;32m--> 247\u001b[0m \u001b[38;5;28;01mraise\u001b[39;00m exception_class(message, screen, stacktrace)\n",
      "\u001b[1;31mTimeoutException\u001b[0m: Message: TimedPromise timed out after 300000 ms\nStacktrace:\nWebDriverError@chrome://remote/content/shared/webdriver/Errors.jsm:183:5\nTimeoutError@chrome://remote/content/shared/webdriver/Errors.jsm:472:5\nbail@chrome://remote/content/marionette/sync.js:231:19\n"
     ]
    }
   ],
   "source": [
    "# BUSQUEDA\n",
    "resultados_busqueda = []\n",
    "for lote in lotes:\n",
    "    for descripcion in tqdm(lote.descripcion):\n",
    "        driver.get(URL_BASE + descripcion + ' symptoms')\n",
    "        html = driver.page_source\n",
    "        soup = BeautifulSoup(html, 'lxml')\n",
    "        res = soup.findAll(class_ = 'yuRUbf')\n",
    "        try:\n",
    "            resultados_busqueda.append(list(res[0].children)[0].get('href'))\n",
    "        except: \n",
    "            resultados_busqueda.append(\"Error de busqueda\")\n",
    "    time.sleep(2*60)"
   ]
  },
  {
   "cell_type": "code",
   "execution_count": null,
   "id": "aac1eb35-63f1-4e6a-a581-db1adad2ef55",
   "metadata": {},
   "outputs": [],
   "source": [
    "resultados_busqueda"
   ]
  },
  {
   "cell_type": "code",
   "execution_count": null,
   "id": "3455323a-6d95-4512-844a-d7561ea4fcb5",
   "metadata": {},
   "outputs": [],
   "source": [
    "cod_desc_url = pd.concat([cod_desc_data, pd.Series(resultados_busqueda)], axis=1)\n",
    "cod_desc_url.columns = ['codigo', 'descripcion', 'url']"
   ]
  },
  {
   "cell_type": "code",
   "execution_count": null,
   "id": "a052457f-411a-411d-895f-ad0326385638",
   "metadata": {},
   "outputs": [],
   "source": [
    "cod_desc_url.to_csv('cod_desc_url.csv', index=False)"
   ]
  }
 ],
 "metadata": {
  "kernelspec": {
   "display_name": "env",
   "language": "python",
   "name": "env"
  },
  "language_info": {
   "codemirror_mode": {
    "name": "ipython",
    "version": 3
   },
   "file_extension": ".py",
   "mimetype": "text/x-python",
   "name": "python",
   "nbconvert_exporter": "python",
   "pygments_lexer": "ipython3",
   "version": "3.8.0"
  }
 },
 "nbformat": 4,
 "nbformat_minor": 5
}
