{
 "cells": [
  {
   "cell_type": "code",
   "execution_count": 1,
   "id": "3f718aa8-bf3a-4844-a842-d0d190e2dde8",
   "metadata": {},
   "outputs": [],
   "source": [
    "import pandas as pd"
   ]
  },
  {
   "cell_type": "code",
   "execution_count": 2,
   "id": "9ba7e881-c507-46d9-9256-0edf196ce71c",
   "metadata": {},
   "outputs": [],
   "source": [
    "data = pd.read_csv(\"./icd_sintomas.csv\", index_col=0)"
   ]
  },
  {
   "cell_type": "code",
   "execution_count": 3,
   "id": "976c43c2-107e-405b-8ec8-2f4583c015c5",
   "metadata": {},
   "outputs": [
    {
     "data": {
      "text/html": [
       "<div>\n",
       "<style scoped>\n",
       "    .dataframe tbody tr th:only-of-type {\n",
       "        vertical-align: middle;\n",
       "    }\n",
       "\n",
       "    .dataframe tbody tr th {\n",
       "        vertical-align: top;\n",
       "    }\n",
       "\n",
       "    .dataframe thead th {\n",
       "        text-align: right;\n",
       "    }\n",
       "</style>\n",
       "<table border=\"1\" class=\"dataframe\">\n",
       "  <thead>\n",
       "    <tr style=\"text-align: right;\">\n",
       "      <th></th>\n",
       "      <th>codigo</th>\n",
       "      <th>sintomas</th>\n",
       "    </tr>\n",
       "  </thead>\n",
       "  <tbody>\n",
       "    <tr>\n",
       "      <th>3863</th>\n",
       "      <td>I39</td>\n",
       "      <td>Sintomas no encontrados</td>\n",
       "    </tr>\n",
       "    <tr>\n",
       "      <th>7676</th>\n",
       "      <td>Q44.5</td>\n",
       "      <td>Sintomas no encontrados</td>\n",
       "    </tr>\n",
       "    <tr>\n",
       "      <th>1579</th>\n",
       "      <td>D16.2</td>\n",
       "      <td>Sintomas no encontrados</td>\n",
       "    </tr>\n",
       "    <tr>\n",
       "      <th>6858</th>\n",
       "      <td>O80</td>\n",
       "      <td>Sintomas no encontrados</td>\n",
       "    </tr>\n",
       "    <tr>\n",
       "      <th>9228</th>\n",
       "      <td>T09.0</td>\n",
       "      <td>Sintomas no encontrados</td>\n",
       "    </tr>\n",
       "    <tr>\n",
       "      <th>528</th>\n",
       "      <td>B18.0</td>\n",
       "      <td>Sintomas no encontrados</td>\n",
       "    </tr>\n",
       "    <tr>\n",
       "      <th>5786</th>\n",
       "      <td>M76.0</td>\n",
       "      <td>Sintomas no encontrados</td>\n",
       "    </tr>\n",
       "    <tr>\n",
       "      <th>4836</th>\n",
       "      <td>K73.0</td>\n",
       "      <td>Sintomas no encontrados</td>\n",
       "    </tr>\n",
       "    <tr>\n",
       "      <th>3610</th>\n",
       "      <td>H67.8</td>\n",
       "      <td>Sintomas no encontrados</td>\n",
       "    </tr>\n",
       "    <tr>\n",
       "      <th>3477</th>\n",
       "      <td>H44.1</td>\n",
       "      <td>Sintomas no encontrados</td>\n",
       "    </tr>\n",
       "  </tbody>\n",
       "</table>\n",
       "</div>"
      ],
      "text/plain": [
       "     codigo                 sintomas\n",
       "3863    I39  Sintomas no encontrados\n",
       "7676  Q44.5  Sintomas no encontrados\n",
       "1579  D16.2  Sintomas no encontrados\n",
       "6858    O80  Sintomas no encontrados\n",
       "9228  T09.0  Sintomas no encontrados\n",
       "528   B18.0  Sintomas no encontrados\n",
       "5786  M76.0  Sintomas no encontrados\n",
       "4836  K73.0  Sintomas no encontrados\n",
       "3610  H67.8  Sintomas no encontrados\n",
       "3477  H44.1  Sintomas no encontrados"
      ]
     },
     "execution_count": 3,
     "metadata": {},
     "output_type": "execute_result"
    }
   ],
   "source": [
    "data.sample(10)"
   ]
  },
  {
   "cell_type": "code",
   "execution_count": 23,
   "id": "e8ee70d6-73a3-43e5-8c7a-56d968681da2",
   "metadata": {},
   "outputs": [],
   "source": [
    "icd_wiki = data[data[\"sintomas\"] != \"Sintomas no encontrados\"]"
   ]
  },
  {
   "cell_type": "code",
   "execution_count": 26,
   "id": "1dc20b09-2ace-4a1d-a922-296f14990fdd",
   "metadata": {},
   "outputs": [
    {
     "name": "stdout",
     "output_type": "stream",
     "text": [
      "Cantidad: 574\n"
     ]
    }
   ],
   "source": [
    "print(\"Cantidad:\",len(icd_wiki))"
   ]
  },
  {
   "cell_type": "code",
   "execution_count": 27,
   "id": "a654c995-3ce2-4e3e-9b55-e2f91494dd24",
   "metadata": {},
   "outputs": [],
   "source": [
    "icd_wiki.to_csv(\"./icd_wiki.csv\", )"
   ]
  },
  {
   "cell_type": "code",
   "execution_count": null,
   "id": "f691d946-8b33-495c-815e-ab754935bd69",
   "metadata": {},
   "outputs": [],
   "source": []
  }
 ],
 "metadata": {
  "kernelspec": {
   "display_name": "icdenv",
   "language": "python",
   "name": "icdenv"
  },
  "language_info": {
   "codemirror_mode": {
    "name": "ipython",
    "version": 3
   },
   "file_extension": ".py",
   "mimetype": "text/x-python",
   "name": "python",
   "nbconvert_exporter": "python",
   "pygments_lexer": "ipython3",
   "version": "3.8.0"
  }
 },
 "nbformat": 4,
 "nbformat_minor": 5
}
