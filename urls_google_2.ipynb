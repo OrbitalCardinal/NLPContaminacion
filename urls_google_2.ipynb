{
 "cells": [
  {
   "cell_type": "code",
   "execution_count": 1,
   "id": "d02bf37f-c7eb-4880-9940-12ac24aa05f3",
   "metadata": {},
   "outputs": [],
   "source": [
    "import pandas as pd\n",
    "import requests\n",
    "from bs4 import BeautifulSoup\n",
    "from selenium import webdriver\n",
    "from tqdm import tqdm\n",
    "import time\n",
    "import numpy as np"
   ]
  },
  {
   "cell_type": "code",
   "execution_count": 2,
   "id": "e1334385-a0d0-4415-bee4-8c1f3dd59979",
   "metadata": {},
   "outputs": [],
   "source": [
    "options = webdriver.FirefoxOptions()\n",
    "options.add_argument('--headless')\n",
    "driver = webdriver.Firefox(options=options)"
   ]
  },
  {
   "cell_type": "code",
   "execution_count": 3,
   "id": "a23bc6d9-a591-48d0-b273-d63d8a754bf0",
   "metadata": {},
   "outputs": [],
   "source": [
    "URL_BASE = 'https://www.google.com/search?q='\n",
    "CODIGOS_DESCRIPCION_PATH = 'cod_desc_data.csv'"
   ]
  },
  {
   "cell_type": "code",
   "execution_count": 4,
   "id": "fcfb5cf4-a811-4474-a3b8-b27e4164782d",
   "metadata": {},
   "outputs": [],
   "source": [
    "cod_desc_data = pd.read_csv(CODIGOS_DESCRIPCION_PATH)"
   ]
  },
  {
   "cell_type": "code",
   "execution_count": 5,
   "id": "5a5b1a10-a4f5-40d8-9abe-9162b1557d21",
   "metadata": {},
   "outputs": [
    {
     "data": {
      "text/html": [
       "<div>\n",
       "<style scoped>\n",
       "    .dataframe tbody tr th:only-of-type {\n",
       "        vertical-align: middle;\n",
       "    }\n",
       "\n",
       "    .dataframe tbody tr th {\n",
       "        vertical-align: top;\n",
       "    }\n",
       "\n",
       "    .dataframe thead th {\n",
       "        text-align: right;\n",
       "    }\n",
       "</style>\n",
       "<table border=\"1\" class=\"dataframe\">\n",
       "  <thead>\n",
       "    <tr style=\"text-align: right;\">\n",
       "      <th></th>\n",
       "      <th>codigo</th>\n",
       "      <th>descripcion</th>\n",
       "    </tr>\n",
       "  </thead>\n",
       "  <tbody>\n",
       "    <tr>\n",
       "      <th>0</th>\n",
       "      <td>A00</td>\n",
       "      <td>Cholera</td>\n",
       "    </tr>\n",
       "    <tr>\n",
       "      <th>1</th>\n",
       "      <td>A00.0</td>\n",
       "      <td>Cholera due to Vibrio cholerae 01, biovar chol...</td>\n",
       "    </tr>\n",
       "    <tr>\n",
       "      <th>2</th>\n",
       "      <td>A00.1</td>\n",
       "      <td>Cholera due to Vibrio cholerae 01, biovar eltor</td>\n",
       "    </tr>\n",
       "    <tr>\n",
       "      <th>3</th>\n",
       "      <td>A00.9</td>\n",
       "      <td>Cholera, unspecified</td>\n",
       "    </tr>\n",
       "    <tr>\n",
       "      <th>4</th>\n",
       "      <td>A01</td>\n",
       "      <td>Typhoid and paratyphoid fevers</td>\n",
       "    </tr>\n",
       "    <tr>\n",
       "      <th>...</th>\n",
       "      <td>...</td>\n",
       "      <td>...</td>\n",
       "    </tr>\n",
       "    <tr>\n",
       "      <th>12241</th>\n",
       "      <td>U84.3</td>\n",
       "      <td>Resistance to tuberculostatic drug(s)</td>\n",
       "    </tr>\n",
       "    <tr>\n",
       "      <th>12242</th>\n",
       "      <td>U84.7</td>\n",
       "      <td>Resistance to multiple antimicrobial drugs</td>\n",
       "    </tr>\n",
       "    <tr>\n",
       "      <th>12243</th>\n",
       "      <td>U84.8</td>\n",
       "      <td>Resistance to other specified antimicrobial drug</td>\n",
       "    </tr>\n",
       "    <tr>\n",
       "      <th>12244</th>\n",
       "      <td>U84.9</td>\n",
       "      <td>Resistance to unspecified antimicrobial drugs</td>\n",
       "    </tr>\n",
       "    <tr>\n",
       "      <th>12245</th>\n",
       "      <td>U85</td>\n",
       "      <td>Resistance to antineoplastic drugs</td>\n",
       "    </tr>\n",
       "  </tbody>\n",
       "</table>\n",
       "<p>12246 rows × 2 columns</p>\n",
       "</div>"
      ],
      "text/plain": [
       "      codigo                                        descripcion\n",
       "0        A00                                            Cholera\n",
       "1      A00.0  Cholera due to Vibrio cholerae 01, biovar chol...\n",
       "2      A00.1    Cholera due to Vibrio cholerae 01, biovar eltor\n",
       "3      A00.9                               Cholera, unspecified\n",
       "4        A01                     Typhoid and paratyphoid fevers\n",
       "...      ...                                                ...\n",
       "12241  U84.3              Resistance to tuberculostatic drug(s)\n",
       "12242  U84.7         Resistance to multiple antimicrobial drugs\n",
       "12243  U84.8   Resistance to other specified antimicrobial drug\n",
       "12244  U84.9      Resistance to unspecified antimicrobial drugs\n",
       "12245    U85                 Resistance to antineoplastic drugs\n",
       "\n",
       "[12246 rows x 2 columns]"
      ]
     },
     "execution_count": 5,
     "metadata": {},
     "output_type": "execute_result"
    }
   ],
   "source": [
    "cod_desc_data"
   ]
  },
  {
   "cell_type": "code",
   "execution_count": 8,
   "id": "16963a29-0017-4f45-bb8b-a312b5c8bb1d",
   "metadata": {},
   "outputs": [
    {
     "name": "stderr",
     "output_type": "stream",
     "text": [
      "100%|███████████████████████████████████████████████████████████████████████████| 6048/6048 [23:05:38<00:00, 13.75s/it]\n"
     ]
    }
   ],
   "source": [
    "# BUSQUEDA\n",
    "resultados_busqueda = []\n",
    "for descripcion in tqdm(cod_desc_data.iloc[6198:,:].descripcion):\n",
    "    driver.get(URL_BASE + descripcion + ' symptoms')\n",
    "    html = driver.page_source\n",
    "    soup = BeautifulSoup(html, 'lxml')\n",
    "    res = soup.findAll(class_ = 'yuRUbf')\n",
    "    try:\n",
    "        resultados_busqueda.append(list(res[0].children)[0].get('href'))\n",
    "    except: \n",
    "        resultados_busqueda.append(\"Error de busqueda\")\n",
    "    time.sleep((15-5)*np.random.random()+5)\n",
    "    "
   ]
  },
  {
   "cell_type": "code",
   "execution_count": null,
   "id": "4ed216b9-4e4f-436e-8bb7-79e4a28cdd77",
   "metadata": {},
   "outputs": [],
   "source": [
    "# Random sleep\n",
    "    # Ultima\n",
    "    # Diferencia entre informacion truncada vs entrar a pagina\n",
    "    # Probar con set de wiki por letra tekonizar enfermedades"
   ]
  },
  {
   "cell_type": "code",
   "execution_count": 9,
   "id": "3455323a-6d95-4512-844a-d7561ea4fcb5",
   "metadata": {},
   "outputs": [],
   "source": [
    "cod_desc_url = pd.concat([cod_desc_data.loc[6198:].reset_index(drop=True), pd.Series(resultados_busqueda)], axis=1)\n",
    "cod_desc_url.columns = ['codigo', 'descripcion', 'url']"
   ]
  },
  {
   "cell_type": "code",
   "execution_count": 10,
   "id": "a052457f-411a-411d-895f-ad0326385638",
   "metadata": {},
   "outputs": [],
   "source": [
    "cod_desc_url.to_csv('url-6198-.csv', index=False)"
   ]
  },
  {
   "cell_type": "code",
   "execution_count": null,
   "id": "f6f4a230-2625-43f7-85c1-32ca62d56faa",
   "metadata": {},
   "outputs": [],
   "source": []
  }
 ],
 "metadata": {
  "kernelspec": {
   "display_name": "env",
   "language": "python",
   "name": "env"
  },
  "language_info": {
   "codemirror_mode": {
    "name": "ipython",
    "version": 3
   },
   "file_extension": ".py",
   "mimetype": "text/x-python",
   "name": "python",
   "nbconvert_exporter": "python",
   "pygments_lexer": "ipython3",
   "version": "3.8.0"
  }
 },
 "nbformat": 4,
 "nbformat_minor": 5
}
