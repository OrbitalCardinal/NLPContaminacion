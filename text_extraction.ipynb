{
 "cells": [
  {
   "cell_type": "code",
   "execution_count": 2,
   "id": "7fb3f117-948a-4896-8128-397b10c9e499",
   "metadata": {},
   "outputs": [],
   "source": [
    "import pandas as pd\n",
    "import requests\n",
    "from bs4 import BeautifulSoup\n",
    "from selenium import webdriver\n",
    "from tqdm import tqdm\n",
    "import time\n",
    "import numpy as np"
   ]
  },
  {
   "cell_type": "code",
   "execution_count": 3,
   "id": "0ae2155e-80bc-4cf3-a00a-68d2e1a00c7e",
   "metadata": {},
   "outputs": [],
   "source": [
    "icd_url_global = pd.read_csv('datasets/icd_url_global.csv')"
   ]
  },
  {
   "cell_type": "code",
   "execution_count": 4,
   "id": "a2d9ad87-c56c-4c39-a44d-385c5f4bd717",
   "metadata": {},
   "outputs": [],
   "source": [
    "# INICIAR DRIVER \n",
    "options = webdriver.FirefoxOptions()\n",
    "options.add_argument('--headless')\n",
    "driver = webdriver.Firefox(options=options)"
   ]
  },
  {
   "cell_type": "code",
   "execution_count": 7,
   "id": "5844cee2-0727-4bdd-8667-ceff81583a4d",
   "metadata": {},
   "outputs": [
    {
     "name": "stderr",
     "output_type": "stream",
     "text": [
      "100%|█████████████████████████████████████████████████████████| 100/100 [18:53<00:00, 11.33s/it]\n",
      "C:\\Users\\Edson Cepeda\\AppData\\Local\\Temp\\ipykernel_18904\\1291973857.py:27: SettingWithCopyWarning: \n",
      "A value is trying to be set on a copy of a slice from a DataFrame.\n",
      "Try using .loc[row_indexer,col_indexer] = value instead\n",
      "\n",
      "See the caveats in the documentation: https://pandas.pydata.org/pandas-docs/stable/user_guide/indexing.html#returning-a-view-versus-a-copy\n",
      "  part_df['text'] = resultados_texto\n"
     ]
    }
   ],
   "source": [
    "# EXTRAER TEXTO\n",
    "resultados_texto = []\n",
    "size_1 = 0\n",
    "size_2 = 100\n",
    "for url in tqdm(icd_url_global.iloc[size_1:size_2,:].url):\n",
    "    try:\n",
    "        driver.get(url)\n",
    "        html = driver.page_source\n",
    "        soup = BeautifulSoup(html, 'lxml')\n",
    "        \n",
    "        # EXTRAER TEXTO\n",
    "        for script in soup(['script', 'style']):\n",
    "            script.extract()\n",
    "        text = soup.get_text()\n",
    "        \n",
    "        # ELIMINAR ESPACIOS \n",
    "        lines = (line.strip() for line in text.splitlines())\n",
    "        # SEPARAR MULTI-TITULOS EN UNA LINEA CADA UNO\n",
    "        chunks = (phrase.strip() for line in lines for phrase in line.split(' '))\n",
    "        # ELIMINAR LINEAS VACIAS\n",
    "        text = '\\n'.join(chunk for chunk in chunks if chunk)\n",
    "        resultados_texto.append(text)\n",
    "    except: \n",
    "        resultados_texto.append('Error')\n",
    "    time.sleep((15-5)*np.random.random()+5)\n",
    "part_df = icd_url_global.iloc[size_1:size_2,:]\n",
    "part_df['text'] = resultados_texto"
   ]
  },
  {
   "cell_type": "code",
   "execution_count": 9,
   "id": "07ff52cb-1d5c-4273-8569-bb85581930fe",
   "metadata": {},
   "outputs": [],
   "source": [
    "part_df.to_csv(f'datasets/icd_part_text_{size_1}_{size_2}.csv', index=False)"
   ]
  },
  {
   "cell_type": "code",
   "execution_count": null,
   "id": "8072b652-4dae-4f5c-b4cc-cf41f2c228ff",
   "metadata": {},
   "outputs": [],
   "source": []
  }
 ],
 "metadata": {
  "kernelspec": {
   "display_name": "env",
   "language": "python",
   "name": "env"
  },
  "language_info": {
   "codemirror_mode": {
    "name": "ipython",
    "version": 3
   },
   "file_extension": ".py",
   "mimetype": "text/x-python",
   "name": "python",
   "nbconvert_exporter": "python",
   "pygments_lexer": "ipython3",
   "version": "3.8.0"
  }
 },
 "nbformat": 4,
 "nbformat_minor": 5
}
