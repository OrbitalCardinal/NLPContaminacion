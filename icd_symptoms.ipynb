{
 "cells": [
  {
   "cell_type": "code",
   "execution_count": 10,
   "metadata": {},
   "outputs": [],
   "source": [
    "# LIBRERIAS NECESARIAS\n",
    "import pandas as pd\n",
    "import requests\n",
    "from bs4 import BeautifulSoup\n",
    "import simple_icd_10 as icd"
   ]
  },
  {
   "cell_type": "code",
   "execution_count": 48,
   "metadata": {},
   "outputs": [],
   "source": [
    "# OBTENER CODIGOS\n",
    "codigos = icd.get_all_codes()\n",
    "\n",
    "# FILTRAR CAPITULOS Y BLOQUES\n",
    "codigos_filtrados = []\n",
    "for codigo in codigos:\n",
    "    if not icd.is_chapter_or_block(codigo):\n",
    "        codigos_filtrados.append(codigo)\n",
    "# DESCRIPCIONES\n",
    "descripciones = [icd.get_description(codigo) for codigo in codigos_filtrados]"
   ]
  },
  {
   "cell_type": "code",
   "execution_count": 50,
   "metadata": {},
   "outputs": [
    {
     "name": "stderr",
     "output_type": "stream",
     "text": [
      "100%|██████████████████████████████████████████████████████████████████████████| 12246/12246 [2:40:42<00:00,  1.27it/s]\n"
     ]
    }
   ],
   "source": [
    "# SCRAPPING\n",
    "from tqdm import tqdm\n",
    "url_base = \"https://en.wikipedia.org/w/index.php?search=\"\n",
    "sintomas = []\n",
    "for descripcion in tqdm(descripciones):\n",
    "    req = requests.get(url_base + descripcion)\n",
    "    soup = BeautifulSoup(req.content)\n",
    "    res = soup.find(title=\"Signs and symptoms\")\n",
    "    try:\n",
    "        sintomas.append(res.parent.parent.find(\"td\").text)\n",
    "    except: \n",
    "        sintomas.append(\"Sintomas no encontrados\")"
   ]
  },
  {
   "cell_type": "code",
   "execution_count": 51,
   "metadata": {},
   "outputs": [],
   "source": [
    "data = pd.DataFrame({\"codigo\": codigos_filtrados, \"sintomas\": sintomas})"
   ]
  },
  {
   "cell_type": "code",
   "execution_count": 156,
   "metadata": {},
   "outputs": [],
   "source": [
    "data.to_csv(\"./icd_sintomas.csv\")"
   ]
  }
 ],
 "metadata": {
  "interpreter": {
   "hash": "c237b3fd16c4223fc3ac8eeaf5b3a75644dfdc282a9ccab0c8273a4986f16c93"
  },
  "kernelspec": {
   "display_name": "Python 3 (ipykernel)",
   "language": "python",
   "name": "python3"
  },
  "language_info": {
   "codemirror_mode": {
    "name": "ipython",
    "version": 3
   },
   "file_extension": ".py",
   "mimetype": "text/x-python",
   "name": "python",
   "nbconvert_exporter": "python",
   "pygments_lexer": "ipython3",
   "version": "3.8.0"
  }
 },
 "nbformat": 4,
 "nbformat_minor": 4
}
