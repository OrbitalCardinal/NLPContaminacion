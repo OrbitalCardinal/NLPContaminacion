{
 "cells": [
  {
   "cell_type": "markdown",
   "id": "904aa56c-6d55-4563-b731-874b2c4985d5",
   "metadata": {},
   "source": [
    "## **Experimento 2:** Exclusión de oraciones sin palabra \"symptoms\""
   ]
  },
  {
   "cell_type": "code",
   "execution_count": 1,
   "id": "f967a28b-8760-4ece-87de-b79a45c939bb",
   "metadata": {},
   "outputs": [],
   "source": [
    "import pandas as pd\n",
    "import numpy as np\n",
    "import re"
   ]
  },
  {
   "cell_type": "code",
   "execution_count": 4,
   "id": "720ff1ec-53c2-4ea3-826b-a44d55fd3460",
   "metadata": {},
   "outputs": [],
   "source": [
    "data = pd.read_csv('datasets/icd_part_text_0_1000-checkpoint.csv')"
   ]
  },
  {
   "cell_type": "code",
   "execution_count": 6,
   "id": "dfeb9acd-6435-4e84-872f-5b84a72b08b1",
   "metadata": {},
   "outputs": [],
   "source": [
    "data.text = data.text.apply(lambda x: x.replace('\\n', ' '))"
   ]
  },
  {
   "cell_type": "code",
   "execution_count": 7,
   "id": "00e7caa4-aa2d-4d66-9989-441834cee707",
   "metadata": {},
   "outputs": [
    {
     "data": {
      "text/html": [
       "<div>\n",
       "<style scoped>\n",
       "    .dataframe tbody tr th:only-of-type {\n",
       "        vertical-align: middle;\n",
       "    }\n",
       "\n",
       "    .dataframe tbody tr th {\n",
       "        vertical-align: top;\n",
       "    }\n",
       "\n",
       "    .dataframe thead th {\n",
       "        text-align: right;\n",
       "    }\n",
       "</style>\n",
       "<table border=\"1\" class=\"dataframe\">\n",
       "  <thead>\n",
       "    <tr style=\"text-align: right;\">\n",
       "      <th></th>\n",
       "      <th>codigo</th>\n",
       "      <th>descripcion</th>\n",
       "      <th>url</th>\n",
       "      <th>text</th>\n",
       "    </tr>\n",
       "  </thead>\n",
       "  <tbody>\n",
       "    <tr>\n",
       "      <th>0</th>\n",
       "      <td>A00</td>\n",
       "      <td>Cholera</td>\n",
       "      <td>https://www.cdc.gov/cholera/illness.html</td>\n",
       "      <td>Global / universal meta tags                ...</td>\n",
       "    </tr>\n",
       "    <tr>\n",
       "      <th>1</th>\n",
       "      <td>A00.0</td>\n",
       "      <td>Cholera due to Vibrio cholerae 01, biovar chol...</td>\n",
       "      <td>https://www.cdc.gov/cholera/index.html</td>\n",
       "      <td>Global / universal meta tags                ...</td>\n",
       "    </tr>\n",
       "    <tr>\n",
       "      <th>2</th>\n",
       "      <td>A00.1</td>\n",
       "      <td>Cholera due to Vibrio cholerae 01, biovar eltor</td>\n",
       "      <td>https://www.bu.edu/researchsupport/safety/rohp...</td>\n",
       "      <td>&lt;![endif] \\tgenerated in 1.660 seconds \\t79240...</td>\n",
       "    </tr>\n",
       "    <tr>\n",
       "      <th>3</th>\n",
       "      <td>A00.9</td>\n",
       "      <td>Cholera, unspecified</td>\n",
       "      <td>https://www.icd10data.com/ICD10CM/Codes/A00-B9...</td>\n",
       "      <td>2022 ICD-10-CM Diagnosis Code A00.9: Cholera,...</td>\n",
       "    </tr>\n",
       "    <tr>\n",
       "      <th>4</th>\n",
       "      <td>A01</td>\n",
       "      <td>Typhoid and paratyphoid fevers</td>\n",
       "      <td>https://www.cdc.gov/typhoid-fever/symptoms.html</td>\n",
       "      <td>Global / universal meta tags                ...</td>\n",
       "    </tr>\n",
       "    <tr>\n",
       "      <th>...</th>\n",
       "      <td>...</td>\n",
       "      <td>...</td>\n",
       "      <td>...</td>\n",
       "      <td>...</td>\n",
       "    </tr>\n",
       "    <tr>\n",
       "      <th>995</th>\n",
       "      <td>C13.8</td>\n",
       "      <td>Malignant neoplasm: Overlapping lesion of hypo...</td>\n",
       "      <td>https://emedicine.medscape.com/article/1375268...</td>\n",
       "      <td>Hypopharyngeal Cancer: Overview, Clinical Pre...</td>\n",
       "    </tr>\n",
       "    <tr>\n",
       "      <th>996</th>\n",
       "      <td>C13.9</td>\n",
       "      <td>Malignant neoplasm: Hypopharynx, unspecified</td>\n",
       "      <td>https://www.cancer.gov/types/head-and-neck/pat...</td>\n",
       "      <td>(window.NREUM||(NREUM={})).init={privacy:{co...</td>\n",
       "    </tr>\n",
       "    <tr>\n",
       "      <th>997</th>\n",
       "      <td>C14</td>\n",
       "      <td>Malignant neoplasm of other and ill-defined si...</td>\n",
       "      <td>https://www.cancer.org/cancer/oral-cavity-and-...</td>\n",
       "      <td>What Are Oral Cavity and Oropharyngeal ...</td>\n",
       "    </tr>\n",
       "    <tr>\n",
       "      <th>998</th>\n",
       "      <td>C14.0</td>\n",
       "      <td>Malignant neoplasm: Pharynx, unspecified</td>\n",
       "      <td>https://my.clevelandclinic.org/health/diseases...</td>\n",
       "      <td>Oropharyngeal Cancer: What is it, Sy...</td>\n",
       "    </tr>\n",
       "    <tr>\n",
       "      <th>999</th>\n",
       "      <td>C14.2</td>\n",
       "      <td>Malignant neoplasm: Waldeyer ring</td>\n",
       "      <td>https://www.sciencedirect.com/topics/medicine-...</td>\n",
       "      <td>Waldeyer's Tonsillar Ring - an overview | S...</td>\n",
       "    </tr>\n",
       "  </tbody>\n",
       "</table>\n",
       "<p>1000 rows × 4 columns</p>\n",
       "</div>"
      ],
      "text/plain": [
       "    codigo                                        descripcion  \\\n",
       "0      A00                                            Cholera   \n",
       "1    A00.0  Cholera due to Vibrio cholerae 01, biovar chol...   \n",
       "2    A00.1    Cholera due to Vibrio cholerae 01, biovar eltor   \n",
       "3    A00.9                               Cholera, unspecified   \n",
       "4      A01                     Typhoid and paratyphoid fevers   \n",
       "..     ...                                                ...   \n",
       "995  C13.8  Malignant neoplasm: Overlapping lesion of hypo...   \n",
       "996  C13.9       Malignant neoplasm: Hypopharynx, unspecified   \n",
       "997    C14  Malignant neoplasm of other and ill-defined si...   \n",
       "998  C14.0           Malignant neoplasm: Pharynx, unspecified   \n",
       "999  C14.2                  Malignant neoplasm: Waldeyer ring   \n",
       "\n",
       "                                                   url  \\\n",
       "0             https://www.cdc.gov/cholera/illness.html   \n",
       "1               https://www.cdc.gov/cholera/index.html   \n",
       "2    https://www.bu.edu/researchsupport/safety/rohp...   \n",
       "3    https://www.icd10data.com/ICD10CM/Codes/A00-B9...   \n",
       "4      https://www.cdc.gov/typhoid-fever/symptoms.html   \n",
       "..                                                 ...   \n",
       "995  https://emedicine.medscape.com/article/1375268...   \n",
       "996  https://www.cancer.gov/types/head-and-neck/pat...   \n",
       "997  https://www.cancer.org/cancer/oral-cavity-and-...   \n",
       "998  https://my.clevelandclinic.org/health/diseases...   \n",
       "999  https://www.sciencedirect.com/topics/medicine-...   \n",
       "\n",
       "                                                  text  \n",
       "0      Global / universal meta tags                ...  \n",
       "1      Global / universal meta tags                ...  \n",
       "2    <![endif] \\tgenerated in 1.660 seconds \\t79240...  \n",
       "3     2022 ICD-10-CM Diagnosis Code A00.9: Cholera,...  \n",
       "4      Global / universal meta tags                ...  \n",
       "..                                                 ...  \n",
       "995   Hypopharyngeal Cancer: Overview, Clinical Pre...  \n",
       "996    (window.NREUM||(NREUM={})).init={privacy:{co...  \n",
       "997         What Are Oral Cavity and Oropharyngeal ...  \n",
       "998            Oropharyngeal Cancer: What is it, Sy...  \n",
       "999     Waldeyer's Tonsillar Ring - an overview | S...  \n",
       "\n",
       "[1000 rows x 4 columns]"
      ]
     },
     "execution_count": 7,
     "metadata": {},
     "output_type": "execute_result"
    }
   ],
   "source": [
    "data"
   ]
  },
  {
   "cell_type": "markdown",
   "id": "0611e5b0-27b3-4c67-b4cc-54d54bd71cc1",
   "metadata": {},
   "source": [
    "### Separar en oraciones"
   ]
  },
  {
   "cell_type": "code",
   "execution_count": 8,
   "id": "08c985fc-7d29-4043-a170-dbe30dab2ec6",
   "metadata": {},
   "outputs": [],
   "source": [
    "sentence_data = pd.DataFrame()\n",
    "for i in range(len(data)):\n",
    "    codigo = data.iloc[i, 0]\n",
    "    text = data.iloc[i, 3]\n",
    "    text = text.split('.')\n",
    "    n = len(text)\n",
    "    sentences = pd.DataFrame({'codigo': np.repeat(codigo,n), 'sentence': text})\n",
    "    sentence_data = pd.concat([sentence_data, sentences])"
   ]
  },
  {
   "cell_type": "markdown",
   "id": "06d25cfc-33a2-4988-924e-6a2fa100c2e1",
   "metadata": {},
   "source": [
    "### Excluir oraciones que no contengan la palabra \"symptoms\""
   ]
  },
  {
   "cell_type": "code",
   "execution_count": 9,
   "id": "29144348-e658-4aa2-9117-2c1bc88cc183",
   "metadata": {},
   "outputs": [],
   "source": [
    "def symptoms_sentences(text):\n",
    "    patterns = [\n",
    "        r'\\b(?i)'+'symptoms'+r'\\b'\n",
    "    ]\n",
    "    output = []\n",
    "    flag = 0\n",
    "    for pat in patterns:\n",
    "        if re.search(pat, text) != None:\n",
    "            flag = 1\n",
    "            break\n",
    "    return flag"
   ]
  },
  {
   "cell_type": "code",
   "execution_count": 10,
   "id": "3484c353-47eb-47bb-a83f-c3eccd1dc8ac",
   "metadata": {},
   "outputs": [
    {
     "name": "stderr",
     "output_type": "stream",
     "text": [
      "C:\\Users\\Edson Cepeda\\AppData\\Local\\Temp\\ipykernel_18000\\2922156102.py:8: DeprecationWarning: Flags not at the start of the expression '\\\\b(?i)symptoms\\\\b'\n",
      "  if re.search(pat, text) != None:\n"
     ]
    }
   ],
   "source": [
    "sentence_data['include_symptoms'] = sentence_data['sentence'].apply(symptoms_sentences)"
   ]
  },
  {
   "cell_type": "code",
   "execution_count": 11,
   "id": "5e13c749-104e-4ef7-9b7d-704575478abb",
   "metadata": {},
   "outputs": [],
   "source": [
    "sentence_data = sentence_data[sentence_data['include_symptoms'] == 1].reset_index()"
   ]
  },
  {
   "cell_type": "code",
   "execution_count": 21,
   "id": "8cc4f04f-5d80-41e9-a19f-37b57d4cdc1d",
   "metadata": {},
   "outputs": [],
   "source": [
    "sentence_data[['codigo', 'sentence']].to_csv('datasets/code-sentence-symptoms.csv', index = False)"
   ]
  },
  {
   "cell_type": "code",
   "execution_count": null,
   "id": "ba8507ec-3b0a-42d3-a517-4d51920342ba",
   "metadata": {},
   "outputs": [],
   "source": []
  }
 ],
 "metadata": {
  "kernelspec": {
   "display_name": "env",
   "language": "python",
   "name": "env"
  },
  "language_info": {
   "codemirror_mode": {
    "name": "ipython",
    "version": 3
   },
   "file_extension": ".py",
   "mimetype": "text/x-python",
   "name": "python",
   "nbconvert_exporter": "python",
   "pygments_lexer": "ipython3",
   "version": "3.8.0"
  }
 },
 "nbformat": 4,
 "nbformat_minor": 5
}
