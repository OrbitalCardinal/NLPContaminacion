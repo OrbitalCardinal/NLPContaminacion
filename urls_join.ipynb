{
 "cells": [
  {
   "cell_type": "code",
   "execution_count": 1,
   "id": "9aa9e66b-b215-47cb-ac71-9a4156d9f45f",
   "metadata": {},
   "outputs": [],
   "source": [
    "import pandas as pd"
   ]
  },
  {
   "cell_type": "code",
   "execution_count": 2,
   "id": "98979b0d-1f16-4032-b9bb-0085b5d399a6",
   "metadata": {},
   "outputs": [],
   "source": [
    "PATH_1 = 'datasets/url-2916.csv'\n",
    "PATH_2 = 'datasets/url-2917-6197.csv'\n",
    "PATH_3 = 'datasets/url-6198-.csv'"
   ]
  },
  {
   "cell_type": "code",
   "execution_count": 3,
   "id": "65a0fedb-a47c-4e34-a5a2-741e72069870",
   "metadata": {},
   "outputs": [],
   "source": [
    "data_1 = pd.read_csv(PATH_1)\n",
    "data_2 = pd.read_csv(PATH_2)\n",
    "data_3 = pd.read_csv(PATH_3)"
   ]
  },
  {
   "cell_type": "code",
   "execution_count": 29,
   "id": "3e1c7b94-8247-4e04-ac35-644ccfa9ac7e",
   "metadata": {},
   "outputs": [],
   "source": [
    "# UNIR DATASET\n",
    "data_global = pd.concat([data_1, data_2, data_3])"
   ]
  },
  {
   "cell_type": "code",
   "execution_count": 32,
   "id": "18756424-e266-4a04-8985-c0e8b60ae7d4",
   "metadata": {},
   "outputs": [],
   "source": [
    "# LIMPIAR DATASET\n",
    "data_global = data_global.drop_duplicates()\n",
    "data_global = data_global.dropna()\n",
    "data_global = data_global.reset_index(drop=True)\n",
    "data_global = data_global.sort_values(by='codigo')"
   ]
  },
  {
   "cell_type": "code",
   "execution_count": 34,
   "id": "390f4d34-bc21-41e0-a48f-8e03cd680e81",
   "metadata": {},
   "outputs": [],
   "source": [
    "# EXPORTAR DATASET\n",
    "data_global.to_csv('datasets/icd_url_global.csv', index=False)"
   ]
  }
 ],
 "metadata": {
  "kernelspec": {
   "display_name": "env",
   "language": "python",
   "name": "env"
  },
  "language_info": {
   "codemirror_mode": {
    "name": "ipython",
    "version": 3
   },
   "file_extension": ".py",
   "mimetype": "text/x-python",
   "name": "python",
   "nbconvert_exporter": "python",
   "pygments_lexer": "ipython3",
   "version": "3.8.0"
  }
 },
 "nbformat": 4,
 "nbformat_minor": 5
}
