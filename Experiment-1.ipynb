{
 "cells": [
  {
   "cell_type": "markdown",
   "id": "c0355e4a-c07f-4f29-9b04-b1e5610d8239",
   "metadata": {},
   "source": [
    "## **Experimento 1:** Análisis con Spacy"
   ]
  },
  {
   "cell_type": "code",
   "execution_count": 1,
   "id": "8f95fd53-2d37-4c97-bc02-8c6e094e0814",
   "metadata": {},
   "outputs": [],
   "source": [
    "import pandas as pd\n",
    "import re\n",
    "import spacy\n",
    "from spacy.matcher import Matcher"
   ]
  },
  {
   "cell_type": "code",
   "execution_count": 62,
   "id": "3b6961ee-6fc3-4d9a-9ce9-9bf496617572",
   "metadata": {},
   "outputs": [],
   "source": [
    "data = pd.read_csv('datasets/icd_part_text_0_2.csv')"
   ]
  },
  {
   "cell_type": "markdown",
   "id": "a5730f3f-bae4-46c1-9f84-69b4c5b237cb",
   "metadata": {},
   "source": [
    "## Limpieza de texto"
   ]
  },
  {
   "cell_type": "code",
   "execution_count": 71,
   "id": "76211616-dcb9-4f30-99fb-d9e2526cfec9",
   "metadata": {
    "tags": []
   },
   "outputs": [],
   "source": [
    "data.text = data.text.apply(lambda x: x.replace('\\n', ' '))"
   ]
  },
  {
   "cell_type": "markdown",
   "id": "e0396a63-54a9-4334-9f0e-fada38e79aa1",
   "metadata": {},
   "source": [
    "## Extracción POS (Part of Speech)"
   ]
  },
  {
   "cell_type": "code",
   "execution_count": 5,
   "id": "232d66d9-f8ca-47ff-bd10-be7f44f2c95c",
   "metadata": {},
   "outputs": [],
   "source": [
    "nlp = spacy.load('en_core_web_sm',disable=['ner','textcat'])"
   ]
  },
  {
   "cell_type": "code",
   "execution_count": 174,
   "id": "4cef4221-b80e-466a-ba86-54d7e471bc9c",
   "metadata": {},
   "outputs": [],
   "source": [
    "text = data.loc[0].text\n",
    "text_sentences = pd.DataFrame({'sentence': text.split('.')})"
   ]
  },
  {
   "cell_type": "code",
   "execution_count": 176,
   "id": "d204600a-17f6-4bee-889c-8c7078b3bb0f",
   "metadata": {},
   "outputs": [],
   "source": [
    "def symptoms_sentences(text):\n",
    "    patterns = [\n",
    "        r'\\b(?i)'+'symptoms'+r'\\b'\n",
    "    ]\n",
    "    output = []\n",
    "    flag = 0\n",
    "    for pat in patterns:\n",
    "        if re.search(pat, text) != None:\n",
    "            flag = 1\n",
    "            break\n",
    "    return flag"
   ]
  },
  {
   "cell_type": "code",
   "execution_count": 178,
   "id": "98be7c1a-df22-41e2-9ae4-1aed61533c66",
   "metadata": {},
   "outputs": [],
   "source": [
    "text_sentences['symptoms_present'] = text_sentences.sentence.apply(symptoms_sentences)"
   ]
  },
  {
   "cell_type": "code",
   "execution_count": 179,
   "id": "2c66a945-09ed-45cc-a95d-19161f482fa2",
   "metadata": {},
   "outputs": [],
   "source": [
    "text_sentences_symptoms = text_sentences[text_sentences.symptoms_present == 1].reset_index(drop=True)"
   ]
  },
  {
   "cell_type": "code",
   "execution_count": 180,
   "id": "5f41cb8d-5589-4ce3-98cc-d72fbab9e763",
   "metadata": {},
   "outputs": [
    {
     "data": {
      "text/plain": [
       "' A physician checking a patient for dehydration About 1 in 10 people with cholera will experience severe symptoms, which, in the early stages, include: profuse watery diarrhea, sometimes described as “rice-water stools” vomiting thirst leg cramps restlessness or irritability Health care providers should look for signs of dehydration when examining a patient with profuse watery diarrhea'"
      ]
     },
     "execution_count": 180,
     "metadata": {},
     "output_type": "execute_result"
    }
   ],
   "source": [
    "text_sentences_symptoms.loc[3].sentence"
   ]
  },
  {
   "cell_type": "code",
   "execution_count": 248,
   "id": "03d61d2c-36c8-4e85-8364-5a7a8430de85",
   "metadata": {},
   "outputs": [],
   "source": [
    "# text_test = text_sentences_symptoms.loc[4].sentence\n",
    "text_test = 'Im playing with my sister that is playing with her sister and her sister is playing with my brother'\n",
    "# for token in doc:\n",
    "#     print(f'{token.text}->{token.pos_}')\n",
    "doc = nlp(text_test)\n",
    "names = []\n",
    "pattern = [\n",
    "    # {'LOWER': 'symptoms'},\n",
    "    # {'POS': 'PUNCT', 'OP': '?'},\n",
    "    {'POS': 'VERB'},\n",
    "    # {'POS': 'NOUN', 'OP': '?'}\n",
    "]\n",
    "matcher = Matcher(nlp.vocab)\n",
    "matcher.add('SYPTOMS MATCHER', [pattern], on_match=None)\n",
    "matches = matcher(doc)"
   ]
  },
  {
   "cell_type": "code",
   "execution_count": 249,
   "id": "e7029fda-68c6-4c81-afc0-2287163ddd98",
   "metadata": {},
   "outputs": [
    {
     "name": "stdout",
     "output_type": "stream",
     "text": [
      "playing\n",
      "playing\n",
      "playing\n"
     ]
    }
   ],
   "source": [
    "for match_id, start, end in matches:\n",
    "    print(doc[start:end])"
   ]
  },
  {
   "cell_type": "code",
   "execution_count": 203,
   "id": "d8226fb6-0107-4e0c-a76c-fc60559ec4c8",
   "metadata": {},
   "outputs": [],
   "source": [
    "for i in range(0,len(matches)):\n",
    "    token = doc[matches[i][1]:matches[i][2]]\n",
    "    names.append(str(token))"
   ]
  },
  {
   "cell_type": "code",
   "execution_count": 204,
   "id": "372840f1-c257-4f2d-89fc-d68906307c86",
   "metadata": {},
   "outputs": [
    {
     "data": {
      "text/plain": [
       "['physician',\n",
       " 'patient',\n",
       " 'dehydration',\n",
       " 'people',\n",
       " 'cholera',\n",
       " 'symptoms',\n",
       " 'stages',\n",
       " 'profuse',\n",
       " 'diarrhea',\n",
       " 'rice',\n",
       " 'water',\n",
       " 'stools',\n",
       " 'leg',\n",
       " 'cramps',\n",
       " 'restlessness',\n",
       " 'irritability',\n",
       " 'care',\n",
       " 'providers',\n",
       " 'signs',\n",
       " 'dehydration',\n",
       " 'patient',\n",
       " 'profuse',\n",
       " 'diarrhea']"
      ]
     },
     "execution_count": 204,
     "metadata": {},
     "output_type": "execute_result"
    }
   ],
   "source": [
    "names"
   ]
  },
  {
   "cell_type": "code",
   "execution_count": null,
   "id": "50fac682-044b-4acd-a16f-b8913a294aed",
   "metadata": {},
   "outputs": [],
   "source": []
  }
 ],
 "metadata": {
  "kernelspec": {
   "display_name": "env",
   "language": "python",
   "name": "env"
  },
  "language_info": {
   "codemirror_mode": {
    "name": "ipython",
    "version": 3
   },
   "file_extension": ".py",
   "mimetype": "text/x-python",
   "name": "python",
   "nbconvert_exporter": "python",
   "pygments_lexer": "ipython3",
   "version": "3.8.0"
  }
 },
 "nbformat": 4,
 "nbformat_minor": 5
}
